{
 "cells": [
  {
   "cell_type": "markdown",
   "metadata": {},
   "source": [
    "Ex1:\n",
    "    \n",
    "1. Ecrire une fonction qui prend en entrée une fonction f et des réels a et h et donne en sortie le taux de variation (ou d'accroissement) de la fonction f entre le point d'abscisse a+h et a.\n",
    "2. Tester avec f(x)=3x^3+1x^2-5"
   ]
  },
  {
   "cell_type": "code",
   "execution_count": 14,
   "metadata": {},
   "outputs": [],
   "source": [
    "def taux_de_variation(f,a,h):\n",
    "    taux_variation = (f(a+h)-f(a))/h\n",
    "    return taux_variation\n",
    "\n",
    "def f(x):\n",
    "    return 3*x**3 + 1*x**2 - 5"
   ]
  },
  {
   "cell_type": "code",
   "execution_count": 29,
   "metadata": {},
   "outputs": [
    {
     "data": {
      "text/plain": [
       "310.0"
      ]
     },
     "execution_count": 29,
     "metadata": {},
     "output_type": "execute_result"
    }
   ],
   "source": [
    "taux_de_variation(f, 0, 10)"
   ]
  },
  {
   "cell_type": "markdown",
   "metadata": {},
   "source": [
    "Ex2:\n",
    "1. Ecrire une fonction qui calcule la liste des coefficients directeurs pour une fonction f définit sur I=[a;b] avec un pas \"p\"\n",
    "2. Tester avec f(x)=(1+x)/(x-4) définit sur I=[0,1] avec un pas de 0.01"
   ]
  },
  {
   "cell_type": "code",
   "execution_count": 102,
   "metadata": {},
   "outputs": [],
   "source": [
    "import numpy\n",
    "\n",
    "def f(x):\n",
    "    return (1+x)/(x-4)\n",
    "\n",
    "def coefficients_directeurs(f,a,b,p):\n",
    "    coefficients = 5*[0]\n",
    "    \n",
    "    for i in numpy.arange(a,b,p):\n",
    "        coefficients=coefficients+[f(i)/i]\n",
    "    return coefficients\n"
   ]
  },
  {
   "cell_type": "code",
   "execution_count": 104,
   "metadata": {},
   "outputs": [
    {
     "data": {
      "text/plain": [
       "[0,\n",
       " 0,\n",
       " 0,\n",
       " 0,\n",
       " 0,\n",
       " -0.6666666666666666,\n",
       " -0.6655849531441437,\n",
       " -0.6645611264640084,\n",
       " -0.6635938674773627,\n",
       " -0.6626819126819127,\n",
       " -0.66182405165456,\n",
       " -0.6610191246309844,\n",
       " -0.6602660202226406,\n",
       " -0.6595636732623035,\n",
       " -0.6589110627699485,\n",
       " -0.658307210031348,\n",
       " -0.6577511767823188,\n",
       " -0.6572420634920635,\n",
       " -0.6567790077395084,\n",
       " -0.6563611826769722,\n",
       " -0.6559877955758964,\n",
       " -0.6556580864497329,\n",
       " -0.6553713267494186,\n",
       " -0.6551268181271788,\n",
       " -0.6549238912646911,\n",
       " -0.6547619047619048,\n",
       " -0.6546402440830592,\n",
       " -0.6545583205566694,\n",
       " -0.6545155704264625,\n",
       " -0.6545114539504442,\n",
       " -0.6545454545454544,\n",
       " -0.6546170779747422,\n",
       " -0.6547258515762454,\n",
       " -0.6548713235294117,\n",
       " -0.6550530621585284,\n",
       " -0.6552706552706553,\n",
       " -0.6555237095263772,\n",
       " -0.6558118498417006,\n",
       " -0.6561347188195206,\n",
       " -0.6564919762091797,\n",
       " -0.6568832983927325,\n",
       " -0.6573083778966132,\n",
       " -0.657766922927479,\n",
       " -0.6582586569310765,\n",
       " -0.6587833181730479,\n",
       " -0.6593406593406593,\n",
       " -0.6599304471644897,\n",
       " -0.6605524620591768,\n",
       " -0.6612064977823734,\n",
       " -0.6618923611111112,\n",
       " -0.6626098715348208,\n",
       " -0.6633588609642973,\n",
       " -0.6641391734559438,\n",
       " -0.664950664950665,\n",
       " -0.6657932030268188,\n",
       " -0.6666666666666667,\n",
       " -0.667570946035799,\n",
       " -0.6685059422750426,\n",
       " -0.6694715673043846,\n",
       " -0.6704677436384754,\n",
       " -0.6714944042132983,\n",
       " -0.6725514922236234,\n",
       " -0.6736389609708787,\n",
       " -0.6747567737211005,\n",
       " -0.6759049035726403,\n",
       " -0.6770833333333334,\n",
       " -0.6782920554068452,\n",
       " -0.6795310716879345,\n",
       " -0.6808003934663873,\n",
       " -0.6821000413393966,\n",
       " -0.6834300451321728,\n",
       " -0.6847904438265885,\n",
       " -0.6861812854976743,\n",
       " -0.6876026272577999,\n",
       " -0.6890545352083813,\n",
       " -0.6905370843989771,\n",
       " -0.6920503587936364,\n",
       " -0.6935944512443901,\n",
       " -0.6951694634717731,\n",
       " -0.6967755060522837,\n",
       " -0.6984126984126987,\n",
       " -0.700081168831169,\n",
       " -0.7017810544450356,\n",
       " -0.7035125012653104,\n",
       " -0.7052756641977808,\n",
       " -0.7070707070707072,\n",
       " -0.7088978026690885,\n",
       " -0.7107571327754815,\n",
       " -0.7126488882173708,\n",
       " -0.7145732689210951,\n",
       " -0.7165304839723444,\n",
       " -0.7185207516832481,\n",
       " -0.7205442996660895,\n",
       " -0.7226013649136894,\n",
       " -0.7246921938865067,\n",
       " -0.7268170426065165,\n",
       " -0.7289761767579351,\n",
       " -0.731169871794872,\n",
       " -0.7333984130559936,\n",
       " -0.7356620958862978,\n",
       " -0.7379612257661041,\n",
       " -0.7402961184473792,\n",
       " -0.742667100097522,\n",
       " -0.7450745074507453,\n",
       " -0.7475186879671996]"
      ]
     },
     "execution_count": 104,
     "metadata": {},
     "output_type": "execute_result"
    }
   ],
   "source": [
    "coefficients_directeurs(f,1,2,0.01)"
   ]
  },
  {
   "cell_type": "markdown",
   "metadata": {},
   "source": [
    "Ex3:\n",
    "on considère une suite U définie par Un+1=Un+n+1 et de premier terme U0. Ecrire une fonction qui prend en entrée les valeurs de n et U0 et affiche la valeur de Un.\n",
    "1. De facon iterative\n",
    "2. Par recurence"
   ]
  },
  {
   "cell_type": "code",
   "execution_count": null,
   "metadata": {},
   "outputs": [],
   "source": []
  },
  {
   "cell_type": "markdown",
   "metadata": {},
   "source": [
    "Ex4:\n",
    "On pose Tn=n^2−(n−1)^2 ainsi que Sn=T1+T2+T3+...+Tn.\n",
    "1. Etant donné n, afficher la valeur de Sn."
   ]
  },
  {
   "cell_type": "code",
   "execution_count": 36,
   "metadata": {},
   "outputs": [],
   "source": [
    "def T(n):\n",
    "    return (n**2-((n-1)**2))\n",
    "\n",
    "def S(n):\n",
    "    resultat = 0\n",
    "    for i in range(1, n+1):\n",
    "        resultat = resultat + T(i)\n",
    "    print (resultat)\n",
    "\n"
   ]
  },
  {
   "cell_type": "code",
   "execution_count": 37,
   "metadata": {},
   "outputs": [
    {
     "name": "stdout",
     "output_type": "stream",
     "text": [
      "25\n"
     ]
    }
   ],
   "source": [
    "S(5)"
   ]
  },
  {
   "cell_type": "markdown",
   "metadata": {},
   "source": [
    "Ex5:\n",
    "Soit la suite définie par Un+1=0.5.Un et de premier terme U0. Plus la valeur de n augmente, plus les valeurs de Un se rapprochent de 0.\n",
    "\n",
    "Ecrire une fonction qui permet de déterminer pour un réel positif e donné, quel est le plus petit entier n tel que la valeur de Un soit inférieure à e.\n"
   ]
  },
  {
   "cell_type": "code",
   "execution_count": 59,
   "metadata": {},
   "outputs": [],
   "source": [
    "def Suite(Un):\n",
    "        return Un*0.5\n",
    "\n",
    "def Reel_posit(e, U0):\n",
    "    a = 1\n",
    "    Un = U0\n",
    "    n = 0\n",
    "    while(a==1) :\n",
    "        Un=Suite(Un)\n",
    "        print(Un)\n",
    "        \n",
    "        if(Un < e):\n",
    "            a = 0\n",
    "        else:\n",
    "            n+=1\n",
    "    return n"
   ]
  },
  {
   "cell_type": "code",
   "execution_count": 60,
   "metadata": {},
   "outputs": [
    {
     "name": "stdout",
     "output_type": "stream",
     "text": [
      "5.0\n",
      "2.5\n",
      "1.25\n"
     ]
    },
    {
     "data": {
      "text/plain": [
       "2"
      ]
     },
     "execution_count": 60,
     "metadata": {},
     "output_type": "execute_result"
    }
   ],
   "source": [
    "Reel_posit(2,10)"
   ]
  },
  {
   "cell_type": "markdown",
   "metadata": {},
   "source": [
    "Ex6: Constante K de Catalan : https://fr.wikipedia.org/wiki/Constante_de_Catalan\n",
    "Ecrire une fonction qui permet de retourner une valeur approchée de la constante K et en s’arrêtant dès que la valeur absolue de la différence entre deux somme successives devienne inférieure ou égale à une erreur epsilon donnée en paramètre.\n",
    "\n"
   ]
  },
  {
   "cell_type": "code",
   "execution_count": 106,
   "metadata": {},
   "outputs": [],
   "source": [
    "def val_app(epsilon): \n",
    "    elm1=1\n",
    "    elm2=elm1-1/(3**2)\n",
    "    signe=1\n",
    "    val=5\n",
    "    while abs(elm2-elm1)>epsilon:\n",
    "       elm1=elm2\n",
    "       elm2=elm1+signe*(1/(val**2))\n",
    "       val+=2\n",
    "       signe*=(-1)\n",
    "    return elm2"
   ]
  },
  {
   "cell_type": "code",
   "execution_count": 107,
   "metadata": {},
   "outputs": [
    {
     "name": "stdout",
     "output_type": "stream",
     "text": [
      "0.9288888888888889\n"
     ]
    }
   ],
   "source": [
    "print(val_app(0.05))"
   ]
  },
  {
   "cell_type": "markdown",
   "metadata": {},
   "source": [
    "Ex 7:\n",
    "Ecrivez une fonction permettant de calculer la limite à epsilon près de la suite définie par la relation de récurrence :\n",
    "\n",
    "U0 =2\n",
    "Un+1= Un + 2/Un  , n>0.\n",
    "\n",
    "On arrête d’itérer quand l’intervalle entre 2 termes consécutifs devient strictement inférieur à epsilon."
   ]
  },
  {
   "cell_type": "code",
   "execution_count": 108,
   "metadata": {},
   "outputs": [],
   "source": [
    "def limite(epsilon):\n",
    "    U0 = 2\n",
    "    Un = U0+2/U0\n",
    "    while abs(Un-U0) > epsilon:\n",
    "        U0 = Un\n",
    "        Un = U0+2/U0\n",
    "    return Un"
   ]
  },
  {
   "cell_type": "code",
   "execution_count": 109,
   "metadata": {},
   "outputs": [
    {
     "name": "stdout",
     "output_type": "stream",
     "text": [
      "40.07875060343533\n"
     ]
    }
   ],
   "source": [
    "print(limite(0.05))"
   ]
  }
 ],
 "metadata": {
  "kernelspec": {
   "display_name": "Python 3",
   "language": "python",
   "name": "python3"
  },
  "language_info": {
   "codemirror_mode": {
    "name": "ipython",
    "version": 3
   },
   "file_extension": ".py",
   "mimetype": "text/x-python",
   "name": "python",
   "nbconvert_exporter": "python",
   "pygments_lexer": "ipython3",
   "version": "3.8.3"
  }
 },
 "nbformat": 4,
 "nbformat_minor": 4
}
